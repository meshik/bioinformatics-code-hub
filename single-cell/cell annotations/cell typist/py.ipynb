{
 "cells": [
  {
   "cell_type": "markdown",
   "metadata": {},
   "source": [
    "# Cell Typist\n",
    " A tool for automated cell type annotation of scRNA-seq data. It uses machine learning models trained on curated reference datasets to rapidly and accurately assign cell type labels. CellTypist supports both quick predictions with pre-trained models and customizable training on user-defined datasets for more tailored annotations."
   ]
  },
  {
   "cell_type": "code",
   "execution_count": 6,
   "metadata": {},
   "outputs": [
    {
     "name": "stderr",
     "output_type": "stream",
     "text": [
      "c:\\Users\\dekel\\bioinformatics-code-hub\\.venv\\Lib\\site-packages\\tqdm\\auto.py:21: TqdmWarning: IProgress not found. Please update jupyter and ipywidgets. See https://ipywidgets.readthedocs.io/en/stable/user_install.html\n",
      "  from .autonotebook import tqdm as notebook_tqdm\n"
     ]
    }
   ],
   "source": [
    "from load_and_prepare_data import adult_human_heart\n",
    "import celltypist\n",
    "from celltypist import models\n",
    "\n",
    "import sys\n",
    "from pathlib import Path\n",
    "# Add the preprocessing folder to the Python path\n",
    "script_dir = Path('../../preprocessing')\n",
    "sys.path.append(str(script_dir))\n",
    "\n",
    "# let's load our data\n",
    "adata = adult_human_heart(\n",
    "    expression_matrix=Path(\"../../data/GSE109816_normal_heart_umi_matrix.csv.gz\"),\n",
    "    metadata_path=Path(\"../../data/GSE109816_normal_heart_cell_cluster_info.txt\")\n",
    ")\n",
    "\n",
    "## Since we're using adult human heart data, we can use the model trained on healthy adult heart data\n",
    "model = models.Model.load(model='Healthy_Adult_Heart.pkl')\n",
    "## you can use this line to see all available models\n",
    "# models.models_description()"
   ]
  },
  {
   "cell_type": "code",
   "execution_count": null,
   "metadata": {},
   "outputs": [],
   "source": [
    "# now I need to load actual anndata and not Seurat.\n",
    "result = celltypist.annotate(combined_adata, model=model, majority_voting=True)\n",
    "# let's look for adult human heart"
   ]
  },
  {
   "cell_type": "code",
   "execution_count": null,
   "metadata": {},
   "outputs": [],
   "source": [
    "pred_labels = result.predicted_labels\n",
    "\n",
    "# Remove duplicates, keeping the first\n",
    "pred_labels = pred_labels[~pred_labels.index.duplicated(keep='first')]\n",
    "\n",
    "# Drop duplicates from adata to be safe\n",
    "combined_adata = combined_adata[~combined_adata.obs_names.duplicated(keep='first')]\n",
    "\n",
    "# Also restrict to shared indices\n",
    "shared_cells = combined_adata.obs_names.intersection(pred_labels.index)\n",
    "\n",
    "# Get the most probable label per cell\n",
    "cell_types = pred_labels.loc[shared_cells, \"predicted_labels\"]\n",
    "majority_voting = pred_labels.loc[shared_cells, \"majority_voting\"]\n",
    "over_clustering = pred_labels.loc[shared_cells, \"over_clustering\"]"
   ]
  },
  {
   "cell_type": "code",
   "execution_count": null,
   "metadata": {},
   "outputs": [],
   "source": [
    "# Add only for shared cells\n",
    "combined_adata.obs['cell_type'] = cell_types\n",
    "combined_adata.obs['cell_type_majority'] = majority_voting\n",
    "combined_adata.obs['over_clustering'] = over_clustering"
   ]
  },
  {
   "cell_type": "code",
   "execution_count": null,
   "metadata": {},
   "outputs": [],
   "source": [
    "sc.pl.umap(combined_adata, color='cell_type_majority', legend_loc='right margin')"
   ]
  }
 ],
 "metadata": {
  "kernelspec": {
   "display_name": ".venv",
   "language": "python",
   "name": "python3"
  },
  "language_info": {
   "codemirror_mode": {
    "name": "ipython",
    "version": 3
   },
   "file_extension": ".py",
   "mimetype": "text/x-python",
   "name": "python",
   "nbconvert_exporter": "python",
   "pygments_lexer": "ipython3",
   "version": "3.13.2"
  }
 },
 "nbformat": 4,
 "nbformat_minor": 2
}
