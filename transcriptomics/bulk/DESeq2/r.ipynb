{
 "cells": [
  {
   "cell_type": "markdown",
   "metadata": {},
   "source": [
    "# DESeq2 Analysis\n",
    "\n",
    "The popular DESeq2 package in R is used to perform differential gene expression analysis.\n",
    "DESeq2 is widely used for bulk RNA-seq count data, offering robust statistical methods to identify genes that are differentially expressed between experimental conditions.\n",
    "The goal is to take raw count data, normalize it, and extract insights from significant changes in gene expression."
   ]
  },
  {
   "cell_type": "code",
   "execution_count": 4,
   "metadata": {
    "vscode": {
     "languageId": "r"
    }
   },
   "outputs": [
    {
     "data": {
      "text/html": [
       "<table class=\"dataframe\">\n",
       "<caption>A data.frame: 6 × 19</caption>\n",
       "<thead>\n",
       "\t<tr><th></th><th scope=col>GeneID</th><th scope=col>GSM4996084</th><th scope=col>GSM4996085</th><th scope=col>GSM4996086</th><th scope=col>GSM4996087</th><th scope=col>GSM4996088</th><th scope=col>GSM4996089</th><th scope=col>GSM4996090</th><th scope=col>GSM4996091</th><th scope=col>GSM4996092</th><th scope=col>GSM4996093</th><th scope=col>GSM4996094</th><th scope=col>GSM4996095</th><th scope=col>GSM4996096</th><th scope=col>GSM4996097</th><th scope=col>GSM4996098</th><th scope=col>GSM4996099</th><th scope=col>GSM4996100</th><th scope=col>GSM4996101</th></tr>\n",
       "\t<tr><th></th><th scope=col>&lt;int&gt;</th><th scope=col>&lt;int&gt;</th><th scope=col>&lt;int&gt;</th><th scope=col>&lt;int&gt;</th><th scope=col>&lt;int&gt;</th><th scope=col>&lt;int&gt;</th><th scope=col>&lt;int&gt;</th><th scope=col>&lt;int&gt;</th><th scope=col>&lt;int&gt;</th><th scope=col>&lt;int&gt;</th><th scope=col>&lt;int&gt;</th><th scope=col>&lt;int&gt;</th><th scope=col>&lt;int&gt;</th><th scope=col>&lt;int&gt;</th><th scope=col>&lt;int&gt;</th><th scope=col>&lt;int&gt;</th><th scope=col>&lt;int&gt;</th><th scope=col>&lt;int&gt;</th><th scope=col>&lt;int&gt;</th></tr>\n",
       "</thead>\n",
       "<tbody>\n",
       "\t<tr><th scope=row>1</th><td>100287102</td><td>  2</td><td>  5</td><td>  3</td><td>  2</td><td>  5</td><td>  2</td><td>  4</td><td>  2</td><td>  3</td><td>  2</td><td>  2</td><td>  4</td><td>  3</td><td>  2</td><td>  2</td><td>  3</td><td>  3</td><td>  3</td></tr>\n",
       "\t<tr><th scope=row>2</th><td>   653635</td><td>244</td><td>236</td><td>337</td><td>266</td><td>317</td><td>226</td><td>303</td><td>196</td><td>219</td><td>202</td><td>168</td><td>201</td><td>235</td><td>221</td><td>270</td><td>262</td><td>234</td><td>314</td></tr>\n",
       "\t<tr><th scope=row>3</th><td>102466751</td><td> 25</td><td> 17</td><td> 34</td><td> 22</td><td> 24</td><td> 19</td><td> 23</td><td> 15</td><td> 21</td><td> 15</td><td> 19</td><td> 22</td><td> 15</td><td> 17</td><td> 16</td><td> 18</td><td> 17</td><td> 23</td></tr>\n",
       "\t<tr><th scope=row>4</th><td>107985730</td><td>  1</td><td>  1</td><td>  1</td><td>  0</td><td>  0</td><td>  0</td><td>  1</td><td>  0</td><td>  0</td><td>  0</td><td>  0</td><td>  0</td><td>  0</td><td>  0</td><td>  0</td><td>  0</td><td>  0</td><td>  1</td></tr>\n",
       "\t<tr><th scope=row>5</th><td>100302278</td><td>  0</td><td>  0</td><td>  0</td><td>  0</td><td>  0</td><td>  0</td><td>  0</td><td>  0</td><td>  0</td><td>  0</td><td>  0</td><td>  0</td><td>  0</td><td>  0</td><td>  0</td><td>  0</td><td>  0</td><td>  0</td></tr>\n",
       "\t<tr><th scope=row>6</th><td>   645520</td><td>  0</td><td>  0</td><td>  0</td><td>  0</td><td>  1</td><td>  0</td><td>  0</td><td>  0</td><td>  0</td><td>  0</td><td>  0</td><td>  0</td><td>  0</td><td>  0</td><td>  0</td><td>  0</td><td>  0</td><td>  0</td></tr>\n",
       "</tbody>\n",
       "</table>\n"
      ],
      "text/latex": [
       "A data.frame: 6 × 19\n",
       "\\begin{tabular}{r|lllllllllllllllllll}\n",
       "  & GeneID & GSM4996084 & GSM4996085 & GSM4996086 & GSM4996087 & GSM4996088 & GSM4996089 & GSM4996090 & GSM4996091 & GSM4996092 & GSM4996093 & GSM4996094 & GSM4996095 & GSM4996096 & GSM4996097 & GSM4996098 & GSM4996099 & GSM4996100 & GSM4996101\\\\\n",
       "  & <int> & <int> & <int> & <int> & <int> & <int> & <int> & <int> & <int> & <int> & <int> & <int> & <int> & <int> & <int> & <int> & <int> & <int> & <int>\\\\\n",
       "\\hline\n",
       "\t1 & 100287102 &   2 &   5 &   3 &   2 &   5 &   2 &   4 &   2 &   3 &   2 &   2 &   4 &   3 &   2 &   2 &   3 &   3 &   3\\\\\n",
       "\t2 &    653635 & 244 & 236 & 337 & 266 & 317 & 226 & 303 & 196 & 219 & 202 & 168 & 201 & 235 & 221 & 270 & 262 & 234 & 314\\\\\n",
       "\t3 & 102466751 &  25 &  17 &  34 &  22 &  24 &  19 &  23 &  15 &  21 &  15 &  19 &  22 &  15 &  17 &  16 &  18 &  17 &  23\\\\\n",
       "\t4 & 107985730 &   1 &   1 &   1 &   0 &   0 &   0 &   1 &   0 &   0 &   0 &   0 &   0 &   0 &   0 &   0 &   0 &   0 &   1\\\\\n",
       "\t5 & 100302278 &   0 &   0 &   0 &   0 &   0 &   0 &   0 &   0 &   0 &   0 &   0 &   0 &   0 &   0 &   0 &   0 &   0 &   0\\\\\n",
       "\t6 &    645520 &   0 &   0 &   0 &   0 &   1 &   0 &   0 &   0 &   0 &   0 &   0 &   0 &   0 &   0 &   0 &   0 &   0 &   0\\\\\n",
       "\\end{tabular}\n"
      ],
      "text/markdown": [
       "\n",
       "A data.frame: 6 × 19\n",
       "\n",
       "| <!--/--> | GeneID &lt;int&gt; | GSM4996084 &lt;int&gt; | GSM4996085 &lt;int&gt; | GSM4996086 &lt;int&gt; | GSM4996087 &lt;int&gt; | GSM4996088 &lt;int&gt; | GSM4996089 &lt;int&gt; | GSM4996090 &lt;int&gt; | GSM4996091 &lt;int&gt; | GSM4996092 &lt;int&gt; | GSM4996093 &lt;int&gt; | GSM4996094 &lt;int&gt; | GSM4996095 &lt;int&gt; | GSM4996096 &lt;int&gt; | GSM4996097 &lt;int&gt; | GSM4996098 &lt;int&gt; | GSM4996099 &lt;int&gt; | GSM4996100 &lt;int&gt; | GSM4996101 &lt;int&gt; |\n",
       "|---|---|---|---|---|---|---|---|---|---|---|---|---|---|---|---|---|---|---|---|\n",
       "| 1 | 100287102 |   2 |   5 |   3 |   2 |   5 |   2 |   4 |   2 |   3 |   2 |   2 |   4 |   3 |   2 |   2 |   3 |   3 |   3 |\n",
       "| 2 |    653635 | 244 | 236 | 337 | 266 | 317 | 226 | 303 | 196 | 219 | 202 | 168 | 201 | 235 | 221 | 270 | 262 | 234 | 314 |\n",
       "| 3 | 102466751 |  25 |  17 |  34 |  22 |  24 |  19 |  23 |  15 |  21 |  15 |  19 |  22 |  15 |  17 |  16 |  18 |  17 |  23 |\n",
       "| 4 | 107985730 |   1 |   1 |   1 |   0 |   0 |   0 |   1 |   0 |   0 |   0 |   0 |   0 |   0 |   0 |   0 |   0 |   0 |   1 |\n",
       "| 5 | 100302278 |   0 |   0 |   0 |   0 |   0 |   0 |   0 |   0 |   0 |   0 |   0 |   0 |   0 |   0 |   0 |   0 |   0 |   0 |\n",
       "| 6 |    645520 |   0 |   0 |   0 |   0 |   1 |   0 |   0 |   0 |   0 |   0 |   0 |   0 |   0 |   0 |   0 |   0 |   0 |   0 |\n",
       "\n"
      ],
      "text/plain": [
       "  GeneID    GSM4996084 GSM4996085 GSM4996086 GSM4996087 GSM4996088 GSM4996089\n",
       "1 100287102   2          5          3          2          5          2       \n",
       "2    653635 244        236        337        266        317        226       \n",
       "3 102466751  25         17         34         22         24         19       \n",
       "4 107985730   1          1          1          0          0          0       \n",
       "5 100302278   0          0          0          0          0          0       \n",
       "6    645520   0          0          0          0          1          0       \n",
       "  GSM4996090 GSM4996091 GSM4996092 GSM4996093 GSM4996094 GSM4996095 GSM4996096\n",
       "1   4          2          3          2          2          4          3       \n",
       "2 303        196        219        202        168        201        235       \n",
       "3  23         15         21         15         19         22         15       \n",
       "4   1          0          0          0          0          0          0       \n",
       "5   0          0          0          0          0          0          0       \n",
       "6   0          0          0          0          0          0          0       \n",
       "  GSM4996097 GSM4996098 GSM4996099 GSM4996100 GSM4996101\n",
       "1   2          2          3          3          3       \n",
       "2 221        270        262        234        314       \n",
       "3  17         16         18         17         23       \n",
       "4   0          0          0          0          1       \n",
       "5   0          0          0          0          0       \n",
       "6   0          0          0          0          0       "
      ]
     },
     "metadata": {},
     "output_type": "display_data"
    }
   ],
   "source": [
    "## Load data.\n",
    "# Here we have the raw counts, which is the exact input we want for DESeq2.\n",
    "# Raw counts are generated by tools such as featureCounts or HTSeq-count. \n",
    "counts_path <- file.path(\"../data/GSE164073_raw_counts_GRCh38.p13_NCBI.tsv.gz\")\n",
    "counts <- read.delim((counts_path))\n",
    "\n",
    "# Observe the data\n",
    "head(counts)"
   ]
  },
  {
   "cell_type": "code",
   "execution_count": 7,
   "metadata": {
    "vscode": {
     "languageId": "r"
    }
   },
   "outputs": [
    {
     "name": "stdout",
     "output_type": "stream",
     "text": [
      "          GSM4996084 GSM4996085 GSM4996086 GSM4996087 GSM4996088 GSM4996089\n",
      "100287102          2          5          3          2          5          2\n",
      "653635           244        236        337        266        317        226\n",
      "102466751         25         17         34         22         24         19\n",
      "107985730          1          1          1          0          0          0\n",
      "100302278          0          0          0          0          0          0\n",
      "645520             0          0          0          0          1          0\n",
      "          GSM4996090 GSM4996091 GSM4996092 GSM4996093 GSM4996094 GSM4996095\n",
      "100287102          4          2          3          2          2          4\n",
      "653635           303        196        219        202        168        201\n",
      "102466751         23         15         21         15         19         22\n",
      "107985730          1          0          0          0          0          0\n",
      "100302278          0          0          0          0          0          0\n",
      "645520             0          0          0          0          0          0\n",
      "          GSM4996096 GSM4996097 GSM4996098 GSM4996099 GSM4996100 GSM4996101\n",
      "100287102          3          2          2          3          3          3\n",
      "653635           235        221        270        262        234        314\n",
      "102466751         15         17         16         18         17         23\n",
      "107985730          0          0          0          0          0          1\n",
      "100302278          0          0          0          0          0          0\n",
      "645520             0          0          0          0          0          0\n"
     ]
    }
   ],
   "source": [
    "library(dplyr)\n",
    "library(tibble)\n",
    "# Set rownames to gene identifiers\n",
    "count_mat <- counts %>%\n",
    "  tibble::column_to_rownames(\"GeneID\") %>%\n",
    "  as.matrix()\n",
    "\n",
    "print(head(count_mat))"
   ]
  },
  {
   "cell_type": "code",
   "execution_count": null,
   "metadata": {
    "vscode": {
     "languageId": "r"
    }
   },
   "outputs": [],
   "source": [
    "# Now we need to prepare a metadata table\n",
    "# so that DESeq2 knows which conditions exist and which comparisons to perform"
   ]
  }
 ],
 "metadata": {
  "kernelspec": {
   "display_name": "R",
   "language": "R",
   "name": "ir"
  },
  "language_info": {
   "codemirror_mode": "r",
   "file_extension": ".r",
   "mimetype": "text/x-r-source",
   "name": "R",
   "pygments_lexer": "r",
   "version": "4.4.1"
  }
 },
 "nbformat": 4,
 "nbformat_minor": 2
}
