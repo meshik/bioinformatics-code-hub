{
 "cells": [
  {
   "cell_type": "markdown",
   "metadata": {},
   "source": [
    "# Kallisto\n",
    "\n",
    "Kallisto is a lightweight tool for getting gene counts from FASTQ files, with a technique called pseudoalignment.\n",
    "It's quick to run and doesn't require BAM files that come from alignment to the genome.\n",
    "The downside is that your sequencing reads aren't mapped to the genome, so you lose positional information."
   ]
  },
  {
   "cell_type": "code",
   "execution_count": null,
   "metadata": {},
   "outputs": [],
   "source": [
    "# activate a conda environment\n",
    "!conda activate bioinf\n",
    "# install kallisto\n",
    "%conda install -c bioconda -c conda-forge kallisto==0.50.1"
   ]
  },
  {
   "cell_type": "code",
   "execution_count": null,
   "metadata": {},
   "outputs": [],
   "source": [
    "# Kallisto needs a transcriptome index to map reads to.\n",
    "# here is the mouse transcriptome index\n",
    "!wget https://github.com/pachterlab/kallisto-transcriptome-indices/releases/download/v1/mouse_index_standard.tar.xz\n",
    "!tar -xf mouse_index_standard.tar.xz"
   ]
  },
  {
   "cell_type": "code",
   "execution_count": null,
   "metadata": {},
   "outputs": [],
   "source": [
    "# now we can use the index to map reads\n",
    "!kallisto quant -i index.idx -o output -t 16 sample.fastq\n",
    "# or for paired-end reads\n",
    "!kallisto quant -i index.idx -o output -t 16 --pseudobam sample_1.fastq sample_2.fastq"
   ]
  },
  {
   "cell_type": "code",
   "execution_count": null,
   "metadata": {},
   "outputs": [],
   "source": [
    "# now we have an \"abundance.tsv\" file in the output directory\n",
    "# we can use this file to create a count matrix and perform differential expression analysis."
   ]
  }
 ],
 "metadata": {
  "kernelspec": {
   "display_name": ".venv",
   "language": "python",
   "name": "python3"
  },
  "language_info": {
   "codemirror_mode": {
    "name": "ipython",
    "version": 3
   },
   "file_extension": ".py",
   "mimetype": "text/x-python",
   "name": "python",
   "nbconvert_exporter": "python",
   "pygments_lexer": "ipython3",
   "version": "3.13.2"
  }
 },
 "nbformat": 4,
 "nbformat_minor": 2
}
