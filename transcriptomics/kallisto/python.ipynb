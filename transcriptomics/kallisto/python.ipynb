{
 "cells": [
  {
   "cell_type": "code",
   "execution_count": 9,
   "metadata": {},
   "outputs": [],
   "source": [
    "import os\n",
    "\n",
    "# Change these to match your own paths and filenames\n",
    "t2g_file = \"t2g.txt\"  # Transcript-to-gene mapping file, e.g. columns: [transcript_id, gene_name, gene_id]\n",
    "kallisto_folders = [\n",
    "    \"SRR24163115_kallisto\",\n",
    "    \"SRR24163116_kallisto\",\n",
    "    \"SRR24163117_kallisto\",\n",
    "    \"SRR24163118_kallisto\",\n",
    "    \"SRR24163119_kallisto\",\n",
    "    \"SRR24163120_kallisto\",\n",
    "    \"SRR24163121_kallisto\",\n",
    "    \"SRR24163122_kallisto\"\n",
    "]\n",
    "# Helpful to map sample -> condition. Adjust based on your dataset design.\n",
    "sample_conditions = {\n",
    "    \"SRR24163115_kallisto\": \"EV\",\n",
    "    \"SRR24163116_kallisto\": \"EV\",\n",
    "    \"SRR24163117_kallisto\": \"EV\",\n",
    "    \"SRR24163118_kallisto\": \"EV\",\n",
    "    \"SRR24163119_kallisto\": \"KO\",\n",
    "    \"SRR24163120_kallisto\": \"KO\",\n",
    "    \"SRR24163121_kallisto\": \"KO\",\n",
    "    \"SRR24163122_kallisto\": \"KO\"\n",
    "}\n",
    "\n",
    "# Output directory for merged results\n",
    "output_dir = \"./merged_kallisto_gene_level\"\n",
    "os.makedirs(output_dir, exist_ok=True)"
   ]
  },
  {
   "cell_type": "code",
   "execution_count": 10,
   "metadata": {},
   "outputs": [
    {
     "name": "stdout",
     "output_type": "stream",
     "text": [
      "[INFO] Transcript-to-gene mapping (first few lines):\n",
      "          transcript_id               gene_id\n",
      "0  ENSMUST00000132100.2  ENSMUSG00000086053.2\n",
      "1  ENSMUST00000185910.2  ENSMUSG00000100764.2\n",
      "2  ENSMUST00000186289.2  ENSMUSG00000100764.2\n",
      "3  ENSMUST00000188305.2  ENSMUSG00000102095.2\n",
      "4  ENSMUST00000188753.2  ENSMUSG00000100635.2\n"
     ]
    },
    {
     "name": "stderr",
     "output_type": "stream",
     "text": [
      "C:\\Users\\dekel\\AppData\\Local\\Temp\\ipykernel_35524\\278451085.py:7: DtypeWarning: Columns (4) have mixed types. Specify dtype option on import or set low_memory=False.\n",
      "  t2g_df = pd.read_csv(\n"
     ]
    }
   ],
   "source": [
    "import pandas as pd\n",
    "\n",
    "# Path to your transcript-to-gene mapping file\n",
    "t2g_file = \"t2g.txt\"\n",
    "\n",
    "# Read in all columns, give them names, then keep only transcript_id and gene_id\n",
    "t2g_df = pd.read_csv(\n",
    "    t2g_file,\n",
    "    sep=\"\\t\",\n",
    "    header=None,\n",
    "    names=[\n",
    "        \"transcript_id\",\n",
    "        \"gene_id\",\n",
    "        \"symbol\",\n",
    "        \"transcript_name\",\n",
    "        \"chr\",\n",
    "        \"start\",\n",
    "        \"end\",\n",
    "        \"strand\"\n",
    "    ]\n",
    ")\n",
    "\n",
    "# Filter just the columns you need\n",
    "t2g_df = t2g_df[[\"transcript_id\", \"gene_id\"]]\n",
    "\n",
    "print(\"[INFO] Transcript-to-gene mapping (first few lines):\")\n",
    "print(t2g_df.head())\n"
   ]
  },
  {
   "cell_type": "code",
   "execution_count": 11,
   "metadata": {},
   "outputs": [
    {
     "name": "stdout",
     "output_type": "stream",
     "text": [
      "[INFO] Processing SRR24163115_kallisto\\abundance.tsv\n",
      "[INFO] Processing SRR24163116_kallisto\\abundance.tsv\n",
      "[INFO] Processing SRR24163117_kallisto\\abundance.tsv\n",
      "[INFO] Processing SRR24163118_kallisto\\abundance.tsv\n",
      "[INFO] Processing SRR24163119_kallisto\\abundance.tsv\n",
      "[INFO] Processing SRR24163120_kallisto\\abundance.tsv\n",
      "[INFO] Processing SRR24163121_kallisto\\abundance.tsv\n",
      "[INFO] Processing SRR24163122_kallisto\\abundance.tsv\n"
     ]
    }
   ],
   "source": [
    "\n",
    "all_samples_gene_abundance = {}\n",
    "\n",
    "for folder in kallisto_folders:\n",
    "    abundance_path = os.path.join(folder, \"abundance.tsv\")\n",
    "    \n",
    "    print(f\"[INFO] Processing {abundance_path}\")\n",
    "    if not os.path.exists(abundance_path):\n",
    "        print(f\"[WARNING] {abundance_path} not found. Skipping.\")\n",
    "        continue\n",
    "    \n",
    "    # Load the Kallisto transcript-level abundance\n",
    "    abundance_df = pd.read_csv(abundance_path, sep=\"\\t\")\n",
    "    \n",
    "    # Merge with t2g mapping\n",
    "    merged_df = pd.merge(\n",
    "        abundance_df, t2g_df,\n",
    "        left_on=\"target_id\",  # Kallisto output uses 'target_id'\n",
    "        right_on=\"transcript_id\",\n",
    "        how=\"inner\"\n",
    "    )\n",
    "    \n",
    "    # Sum up by gene_id 'est_counts'\n",
    "    gene_abundance = merged_df.groupby(\"gene_id\")[\"est_counts\"].sum().reset_index()\n",
    "    \n",
    "    # Rename the column to the sample name for clarity\n",
    "    sample_name = folder.replace(\"_kallisto\",\"\")  # e.g. \"SRR24163115\"\n",
    "    gene_abundance.columns = [\"gene_id\", sample_name]\n",
    "    \n",
    "    # Save as an individual CSV (optional)\n",
    "    out_path = os.path.join(output_dir, f\"{sample_name}_gene_abundance.csv\")\n",
    "    gene_abundance.to_csv(out_path, index=False)\n",
    "    \n",
    "    # Store in dictionary\n",
    "    all_samples_gene_abundance[sample_name] = gene_abundance"
   ]
  },
  {
   "cell_type": "code",
   "execution_count": null,
   "metadata": {},
   "outputs": [],
   "source": [
    "# Start with a list of dataframes\n",
    "dfs = list(all_samples_gene_abundance.values())\n",
    "\n",
    "# Merge them one-by-one on 'gene_id'\n",
    "merged_all = dfs[0]\n",
    "for df in dfs[1:]:\n",
    "    merged_all = pd.merge(merged_all, df, on=\"gene_id\", how=\"outer\")\n",
    "\n",
    "# Sort by gene_id just for cleanliness\n",
    "merged_all = merged_all.sort_values(\"gene_id\").reset_index(drop=True)\n",
    "\n",
    "print(\"[INFO] Final shape of the merged gene-level abundance matrix:\", merged_all.shape)\n",
    "print(merged_all.head())\n",
    "\n",
    "# Save to CSV\n",
    "merged_matrix_path = os.path.join(output_dir, \"all_samples_gene_abundance.csv\")\n",
    "merged_all.to_csv(merged_matrix_path, index=False)\n",
    "print(f\"[INFO] Merged matrix saved to {merged_matrix_path}\")\n",
    "\n",
    "# This can now be loaded in for differential expression analysis "
   ]
  }
 ],
 "metadata": {
  "kernelspec": {
   "display_name": ".venv",
   "language": "python",
   "name": "python3"
  },
  "language_info": {
   "codemirror_mode": {
    "name": "ipython",
    "version": 3
   },
   "file_extension": ".py",
   "mimetype": "text/x-python",
   "name": "python",
   "nbconvert_exporter": "python",
   "pygments_lexer": "ipython3",
   "version": "3.13.2"
  }
 },
 "nbformat": 4,
 "nbformat_minor": 2
}
