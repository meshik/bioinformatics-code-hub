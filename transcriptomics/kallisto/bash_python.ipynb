{
 "cells": [
  {
   "cell_type": "markdown",
   "metadata": {},
   "source": [
    "# Kallisto\n",
    "\n",
    "Kallisto is a lightweight tool for getting gene counts from FASTQ files, with a technique called pseudoalignment.\n",
    "It's quick to run and doesn't require BAM files that come from alignment to the genome.\n",
    "The downside is that your sequencing reads aren't mapped to the genome, so you lose positional information."
   ]
  },
  {
   "cell_type": "code",
   "execution_count": 2,
   "metadata": {},
   "outputs": [
    {
     "name": "stderr",
     "output_type": "stream",
     "text": [
      "'conda' is not recognized as an internal or external command,\n",
      "operable program or batch file.\n",
      "'wget' is not recognized as an internal or external command,\n",
      "operable program or batch file.\n",
      "tar: Error opening archive: Failed to open 'mouse_index_standard.tar.xz'\n",
      "'conda' is not recognized as an internal or external command,\n",
      "operable program or batch file.\n"
     ]
    }
   ],
   "source": [
    "# First, initialize a conda environment\n",
    "!conda create -n bioinf -c bioconda -c conda-forge python=3.12 pandas numpy matplotlib scikit-learn fastqc multiqc trimmomatic sra-tools kallisto=0.50.1\n",
    "\n",
    "!conda activate bioinf\n",
    "\n",
    "!pip install pydeseq2 pyGSEA\n",
    "\n",
    "!conda install -c bioconda -c conda-forge kallisto==0.50.1"
   ]
  }
 ],
 "metadata": {
  "kernelspec": {
   "display_name": ".venv",
   "language": "python",
   "name": "python3"
  },
  "language_info": {
   "codemirror_mode": {
    "name": "ipython",
    "version": 3
   },
   "file_extension": ".py",
   "mimetype": "text/x-python",
   "name": "python",
   "nbconvert_exporter": "python",
   "pygments_lexer": "ipython3",
   "version": "3.13.2"
  }
 },
 "nbformat": 4,
 "nbformat_minor": 2
}
