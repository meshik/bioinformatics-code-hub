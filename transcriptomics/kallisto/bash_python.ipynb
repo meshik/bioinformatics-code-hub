{
 "cells": [
  {
   "cell_type": "markdown",
   "metadata": {},
   "source": [
    "# Kallisto\n",
    "\n",
    "Pseudoalignment - Instead of STAR or HISAT2"
   ]
  },
  {
   "cell_type": "markdown",
   "metadata": {},
   "source": [
    "Setting up a Conda environment in WSL:\n",
    "$ conda create -n bioinf -c bioconda -c conda-forge python=3.12 pandas numpy matplotlib scikit-learn fastqc multiqc trimmomatic sra-tools kallisto     \n",
    "\n",
    "$ conda activate bioinf\n",
    "\n",
    "$ pip install pydeseq2 pyGSEA\n"
   ]
  },
  {
   "cell_type": "code",
   "execution_count": 3,
   "metadata": {},
   "outputs": [
    {
     "name": "stdout",
     "output_type": "stream",
     "text": [
      "bash.ipynb\n"
     ]
    }
   ],
   "source": [
    "%%bash\n",
    "ls"
   ]
  }
 ],
 "metadata": {
  "kernelspec": {
   "display_name": ".venv",
   "language": "python",
   "name": "python3"
  },
  "language_info": {
   "codemirror_mode": {
    "name": "ipython",
    "version": 3
   },
   "file_extension": ".py",
   "mimetype": "text/x-python",
   "name": "python",
   "nbconvert_exporter": "python",
   "pygments_lexer": "ipython3",
   "version": "3.13.2"
  }
 },
 "nbformat": 4,
 "nbformat_minor": 2
}
